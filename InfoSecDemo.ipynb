{
 "cells": [
  {
   "cell_type": "code",
   "execution_count": null,
   "metadata": {},
   "outputs": [],
   "source": [
    "from os import getenv\n",
    "from harvester.client import HarvesterAsyncClient, CountryCode\n",
    "\n",
    "api_token = getenv('API_TOKEN')\n",
    "file_token = getenv('FILE_TOKEN')\n",
    "bucket_id = getenv('BUCKET_ID')\n",
    "client = HarvesterAsyncClient(api_token, file_token, bucket_id, '/prod-downloads', 'https://extapi.authentic8.com/')"
   ]
  },
  {
   "cell_type": "code",
   "execution_count": null,
   "metadata": {},
   "outputs": [],
   "source": [
    "a = client.create_capture_task('https://godaddy.com', CountryCode.USA, note='testing from me')\n",
    "print(f'{a}')"
   ]
  },
  {
   "cell_type": "code",
   "execution_count": null,
   "metadata": {},
   "outputs": [],
   "source": [
    "finished_tasks = []\n",
    "finished_tasks = client.get_tasks(finished=True)\n",
    "print(len(finished_tasks))"
   ]
  },
  {
   "cell_type": "code",
   "execution_count": null,
   "metadata": {},
   "outputs": [],
   "source": [
    "images = []\n",
    "for task in finished_tasks:\n",
    "    try:\n",
    "        file_id = task.get('result_file_id')\n",
    "        task_id = task.get('task_id')\n",
    "        if file_id:\n",
    "            client.delete_file(file_id)\n",
    "        if task_id:\n",
    "            client.delete_task(task_id)\n",
    "        print(f'deleted: {file_id} - {task_id}')\n",
    "    except:\n",
    "        pass"
   ]
  },
  {
   "cell_type": "code",
   "execution_count": null,
   "metadata": {},
   "outputs": [],
   "source": [
    "from IPython.display import Image\n",
    "Image(images[0])"
   ]
  },
  {
   "cell_type": "code",
   "execution_count": null,
   "metadata": {},
   "outputs": [],
   "source": [
    "from IPython.display import Image\n",
    "Image(images[1])"
   ]
  },
  {
   "cell_type": "code",
   "execution_count": null,
   "metadata": {},
   "outputs": [],
   "source": []
  }
 ],
 "metadata": {
  "interpreter": {
   "hash": "506b8976311e0f50a96eee83c67e6fa08542593352d438a22b6e370091723724"
  },
  "kernelspec": {
   "display_name": "Python 3.7.10 64-bit ('.venv': venv)",
   "name": "python3"
  },
  "language_info": {
   "codemirror_mode": {
    "name": "ipython",
    "version": 3
   },
   "file_extension": ".py",
   "mimetype": "text/x-python",
   "name": "python",
   "nbconvert_exporter": "python",
   "pygments_lexer": "ipython3",
   "version": "3.11.1"
  },
  "orig_nbformat": 4
 },
 "nbformat": 4,
 "nbformat_minor": 2
}
